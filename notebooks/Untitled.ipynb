{
 "cells": [
  {
   "cell_type": "code",
   "execution_count": null,
   "metadata": {
    "collapsed": true
   },
   "outputs": [],
   "source": [
    "from sportstat.database import Base, init_db, session\n",
    "from sportstat.models import Team, Athlete, Game, Play, Action, Observation"
   ]
  },
  {
   "cell_type": "markdown",
   "metadata": {},
   "source": [
    "### Parsing `tsv` files and populating the database"
   ]
  },
  {
   "cell_type": "code",
   "execution_count": 1,
   "metadata": {
    "collapsed": true
   },
   "outputs": [],
   "source": [
    "osu_roster_filepath = '../data/osu_roster.csv'"
   ]
  },
  {
   "cell_type": "markdown",
   "metadata": {},
   "source": [
    "Inspecting the first few lines of the file, we get a feel for this data schema."
   ]
  },
  {
   "cell_type": "code",
   "execution_count": 2,
   "metadata": {
    "collapsed": false,
    "scrolled": true
   },
   "outputs": [
    {
     "name": "stdout",
     "output_type": "stream",
     "text": [
      "13\tapple eli\tApple, Eli\tCB\t73\t6-1\t200\t3\tSO\tVoorhees, N.J. (Eastern)\r\n",
      "28\tball warren\tBall, Warren\tRB\t73\t6-1\t225\t5\tJR\tColumbus, Ohio (DeSales)\r\n",
      "16\tbarrett j.t.\tBarrett, J.T.\tQB\t74\t6-2\t225\t3\tSO\tWichita Falls, Texas (Rider)\r\n",
      "85\tbaugh marcus\tBaugh, Marcus\tTE\t77\t6-5\t255\t3\tSO\tRiverside, Calif. (John W. North)\r\n",
      "11\tbell vonn\tBell, Vonn\tSAF\t71\t5-11\t205\t5\tJR\tRossville, Ga. (Ridgeland)\r\n",
      "44\tberger kyle\tBerger, Kyle\tLB\t74\t6-2\t230\t7\tSR\tCleveland, Ohio (St. Ignatius)\r\n",
      "33\tbooker dante\tBooker, Dante\tLB\t75\t6-3\t233\t3\tSO\tAkron (St. Vincent-St. Mary)\r\n",
      "50\tboren jacoby\tBoren, Jacoby\tOL\t74\t6-2\t285\t7\tSR\tPickerington, Ohio (Pickerington Central)\r\n",
      "97\tbosa joey\tBosa, Joey\tDL\t78\t6-6\t275\t5\tJR\tFort Lauderdale, Fla. (St. Thomas Aquinas)\r\n",
      "80\tbrown noah\tBrown, Noah\tWR\t74\t6-2\t222\t3\tSO\tFlanders, N.J. (Pope John XXIII)\r\n"
     ]
    }
   ],
   "source": [
    "!head {osu_roster_filepath}"
   ]
  },
  {
   "cell_type": "markdown",
   "metadata": {},
   "source": [
    "\n",
    "|Number|Name| Name | Position | Something | Height | Weight | Something | Year | Hometown |\n",
    "|------|----|------|----------|-----------|--------|--------|-----------|------|----------|\n",
    "| ...  | ...| .... | ...      | ...       |   ...  | ...    | ...       |  ... | ...      |"
   ]
  },
  {
   "cell_type": "code",
   "execution_count": null,
   "metadata": {
    "collapsed": true
   },
   "outputs": [],
   "source": [
    "with open(osu_roster_filepath, 'r') as f:\n",
    "    for line in f.readlines():\n",
    "        items = line.split()\n",
    "        number = int(items[0])\n",
    "        name = items[1]\n",
    "        first, last = items[2].split(', ')\n",
    "        position = items[3]\n",
    "        something = items[4]\n",
    "        height = int(items[5])\n",
    "        weight = items[6]\n",
    "        something = items[7]\n",
    "        year = items[8]\n",
    "        hometown = items[9]\n",
    "        \n",
    "        athlete = Athlete()\n",
    "        athlete.number = number\n",
    "        athlete.name = name\n",
    "        athlete.first = first\n",
    "        athlete.last = last\n",
    "        athlete.position = position\n",
    "        athlete.height = height\n",
    "        athlete.weight = weight\n",
    "        athlete.year = year\n",
    "        athlete.hometown = hometown"
   ]
  },
  {
   "cell_type": "code",
   "execution_count": null,
   "metadata": {
    "collapsed": true
   },
   "outputs": [],
   "source": []
  }
 ],
 "metadata": {
  "kernelspec": {
   "display_name": "Python 3",
   "language": "python",
   "name": "python3"
  },
  "language_info": {
   "codemirror_mode": {
    "name": "ipython",
    "version": 3
   },
   "file_extension": ".py",
   "mimetype": "text/x-python",
   "name": "python",
   "nbconvert_exporter": "python",
   "pygments_lexer": "ipython3",
   "version": "3.4.3"
  }
 },
 "nbformat": 4,
 "nbformat_minor": 0
}
