{
 "cells": [
  {
   "cell_type": "code",
   "execution_count": 1,
   "metadata": {
    "collapsed": false
   },
   "outputs": [],
   "source": [
    "from sportstat.database import init_db, session\n",
    "from sportstat.models import Team, Athlete, Game, Play, Action, Observation\n",
    "#__dbname__ = 'sqlite:///./tmp/test.db'\n",
    "#init_db()  # __dbname__ not defined; using in-memory sqlite\n",
    "path_to_data_dir = '../data'"
   ]
  },
  {
   "cell_type": "code",
   "execution_count": 2,
   "metadata": {
    "collapsed": false
   },
   "outputs": [
    {
     "name": "stdout",
     "output_type": "stream",
     "text": [
      "Central Florida\n",
      "Cincinnati\n",
      "Connecticut\n",
      "East Carolina\n",
      "Houston\n",
      "Memphis\n",
      "SMU\n",
      "South Florida\n",
      "Temple\n",
      "Tulane\n",
      "Tulsa\n",
      "Boston College\n",
      "Clemson\n",
      "Duke\n",
      "Florida State\n",
      "Georgia Tech\n",
      "Louisville\n",
      "Miami\n",
      "North Carolina\n",
      "North Carolina St\n",
      "Pittsburgh\n",
      "Syracuse\n",
      "Virginia\n",
      "Virginia Tech\n",
      "Wake Forest\n",
      "Illinois\n",
      "Indiana\n",
      "Iowa\n",
      "Maryland\n",
      "Michigan\n",
      "Michigan State\n",
      "Minnesota\n",
      "Nebraska\n",
      "Northwestern\n",
      "Ohio State\n",
      "Penn State\n",
      "Purdue\n",
      "Rutgers\n",
      "Wisconsin\n",
      "Baylor\n",
      "Iowa State\n",
      "Kansas\n",
      "Kansas State\n",
      "Oklahoma\n",
      "Oklahoma State\n",
      "TCU\n",
      "Texas\n",
      "Texas Tech\n",
      "West Virginia\n",
      "Charlotte\n",
      "Florida Atlantic\n",
      "Florida International\n",
      "Louisiana Tech\n",
      "Marshall\n",
      "Middle Tennessee\n",
      "North Texas\n",
      "Old Dominion\n",
      "Rice\n",
      "Southern Miss\n",
      "UTEP\n",
      "UTSA\n",
      "Western Kentucky\n",
      "Army\n",
      "BYU\n",
      "Navy\n",
      "Notre Dame\n",
      "Akron\n",
      "Ball State\n",
      "Bowling Green\n",
      "Buffalo\n",
      "Central Michigan\n",
      "Eastern Michigan\n",
      "Kent State\n",
      "Massachusetts\n",
      "Miami University\n",
      "Northern Illinois\n",
      "Ohio\n",
      "Toledo\n",
      "Western Michigan\n",
      "Air Force\n",
      "Boise State\n",
      "Colorado State\n",
      "Fresno State\n",
      "Hawaii\n",
      "Nevada\n",
      "New Mexico\n",
      "San Diego State\n",
      "San Jose State\n",
      "UNLV\n",
      "Utah State\n",
      "Wyoming\n",
      "Arizona\n",
      "Arizona State\n",
      "California\n",
      "Colorado\n",
      "Oregon\n",
      "Oregon State\n",
      "Stanford\n",
      "UCLA\n",
      "USC\n",
      "Utah\n",
      "Washington\n",
      "Washington State\n",
      "Alabama\n",
      "Arkansas\n",
      "Auburn\n",
      "Florida\n",
      "Georgia\n",
      "Kentucky\n",
      "LSU\n",
      "Mississippi\n",
      "Mississippi State\n",
      "Missouri\n",
      "South Carolina\n",
      "Tennessee\n",
      "Texas A&M;\n",
      "Vanderbilt\n",
      "Appalachian State\n",
      "Arkansas State\n",
      "Georgia Southern\n",
      "Georgia State\n",
      "Idaho\n",
      "Louisiana-Lafayette\n",
      "Louisiana-Monroe\n",
      "New Mexico State\n",
      "South Alabama\n",
      "Texas State\n",
      "Troy\n"
     ]
    }
   ],
   "source": [
    "for team in session.query(Team).all():\n",
    "    print(team.name)"
   ]
  },
  {
   "cell_type": "code",
   "execution_count": 3,
   "metadata": {
    "collapsed": false
   },
   "outputs": [],
   "source": [
    "teams = session.query(Team).all()\n",
    "for team in teams:\n",
    "    team_name = '_'.join(team.name.split(' '))\n",
    "    file = open(path_to_data_dir + '/rosters/' + team_name + '.txt', 'r')\n",
    "    for line in file.readlines():\n",
    "        first_name, last_name, suffix, position, height, weight, year = line.split(',')\n",
    "        #make and commit athlete\n",
    "        athlete = Athlete()\n",
    "        athlete.first_name = first_name\n",
    "        athlete.last_name = last_name\n",
    "        athlete.suffix = suffix\n",
    "        athlete.position = position\n",
    "        athlete.height = height\n",
    "        athlete.weight = weight\n",
    "        athlete.year = year\n",
    "        athlete.team_id = team.id\n",
    "\n",
    "        session.add(athlete)\n",
    "session.commit()"
   ]
  },
  {
   "cell_type": "code",
   "execution_count": 4,
   "metadata": {
    "collapsed": false
   },
   "outputs": [
    {
     "data": {
      "text/plain": [
       "13640"
      ]
     },
     "execution_count": 4,
     "metadata": {},
     "output_type": "execute_result"
    }
   ],
   "source": [
    "session.query(Athlete).count()"
   ]
  },
  {
   "cell_type": "code",
   "execution_count": 5,
   "metadata": {
    "collapsed": true
   },
   "outputs": [],
   "source": [
    "session.close()"
   ]
  },
  {
   "cell_type": "code",
   "execution_count": null,
   "metadata": {
    "collapsed": true
   },
   "outputs": [],
   "source": []
  }
 ],
 "metadata": {
  "kernelspec": {
   "display_name": "Python 3",
   "language": "python",
   "name": "python3"
  },
  "language_info": {
   "codemirror_mode": {
    "name": "ipython",
    "version": 3
   },
   "file_extension": ".py",
   "mimetype": "text/x-python",
   "name": "python",
   "nbconvert_exporter": "python",
   "pygments_lexer": "ipython3",
   "version": "3.4.3"
  }
 },
 "nbformat": 4,
 "nbformat_minor": 0
}
