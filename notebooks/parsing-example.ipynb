{
 "cells": [
  {
   "cell_type": "code",
   "execution_count": 1,
   "metadata": {
    "collapsed": false
   },
   "outputs": [],
   "source": [
    "from sportstat.database import init_db, session\n",
    "from sportstat.models import Team, Athlete, Game, Play, Action, Observation"
   ]
  },
  {
   "cell_type": "code",
   "execution_count": 2,
   "metadata": {
    "collapsed": true
   },
   "outputs": [],
   "source": [
    "init_db()  # __dbname__ not defined; using in-memory sqlite"
   ]
  },
  {
   "cell_type": "markdown",
   "metadata": {},
   "source": [
    "### Parsing `tsv` files and populating the database"
   ]
  },
  {
   "cell_type": "code",
   "execution_count": 3,
   "metadata": {
    "collapsed": true
   },
   "outputs": [],
   "source": [
    "osu_roster_filepath = '../data/osu_roster.csv'"
   ]
  },
  {
   "cell_type": "markdown",
   "metadata": {},
   "source": [
    "Inspecting the first few lines of the file, we get a feel for this data schema."
   ]
  },
  {
   "cell_type": "markdown",
   "metadata": {},
   "source": [
    "Mongo Considerations:\n",
    "\n",
    "- can specify categories for validation\n",
    "- "
   ]
  },
  {
   "cell_type": "code",
   "execution_count": 4,
   "metadata": {
    "collapsed": false,
    "scrolled": false
   },
   "outputs": [
    {
     "name": "stdout",
     "output_type": "stream",
     "text": [
      "13\tapple eli\tApple, Eli\tCB\t73\t6-1\t200\t3\tSO\tVoorhees, N.J. (Eastern)\r\n",
      "28\tball warren\tBall, Warren\tRB\t73\t6-1\t225\t5\tJR\tColumbus, Ohio (DeSales)\r\n",
      "16\tbarrett j.t.\tBarrett, J.T.\tQB\t74\t6-2\t225\t3\tSO\tWichita Falls, Texas (Rider)\r\n",
      "85\tbaugh marcus\tBaugh, Marcus\tTE\t77\t6-5\t255\t3\tSO\tRiverside, Calif. (John W. North)\r\n",
      "11\tbell vonn\tBell, Vonn\tSAF\t71\t5-11\t205\t5\tJR\tRossville, Ga. (Ridgeland)\r\n",
      "44\tberger kyle\tBerger, Kyle\tLB\t74\t6-2\t230\t7\tSR\tCleveland, Ohio (St. Ignatius)\r\n",
      "33\tbooker dante\tBooker, Dante\tLB\t75\t6-3\t233\t3\tSO\tAkron (St. Vincent-St. Mary)\r\n",
      "50\tboren jacoby\tBoren, Jacoby\tOL\t74\t6-2\t285\t7\tSR\tPickerington, Ohio (Pickerington Central)\r\n",
      "97\tbosa joey\tBosa, Joey\tDL\t78\t6-6\t275\t5\tJR\tFort Lauderdale, Fla. (St. Thomas Aquinas)\r\n",
      "80\tbrown noah\tBrown, Noah\tWR\t74\t6-2\t222\t3\tSO\tFlanders, N.J. (Pope John XXIII)\r\n"
     ]
    }
   ],
   "source": [
    "!head {osu_roster_filepath}"
   ]
  },
  {
   "cell_type": "markdown",
   "metadata": {},
   "source": [
    "\n",
    "|Number|Name| Name | Position | Something | Height | Weight | Something | Year | Hometown |\n",
    "|------|----|------|----------|-----------|--------|--------|-----------|------|----------|\n",
    "| ...  | ...| .... | ...      | ...       |   ...  | ...    | ...       |  ... | ...      |"
   ]
  },
  {
   "cell_type": "code",
   "execution_count": 5,
   "metadata": {
    "collapsed": true
   },
   "outputs": [],
   "source": [
    "ohio_state = Team()"
   ]
  },
  {
   "cell_type": "code",
   "execution_count": 6,
   "metadata": {
    "collapsed": true
   },
   "outputs": [],
   "source": [
    "ohio_state.city = 'Columbus'\n",
    "ohio_state.name = 'Buckeyes'\n",
    "ohio_state.state = 'OH'"
   ]
  },
  {
   "cell_type": "code",
   "execution_count": 7,
   "metadata": {
    "collapsed": false
   },
   "outputs": [],
   "source": [
    "session.merge(ohio_state)\n",
    "session.commit()"
   ]
  },
  {
   "cell_type": "code",
   "execution_count": 9,
   "metadata": {
    "collapsed": false
   },
   "outputs": [
    {
     "name": "stdout",
     "output_type": "stream",
     "text": [
      "13 apple eli Apple Eli CB 3 6-1 200 3 SO Voorhees, N.J. (Eastern)\n",
      "\n",
      "28 ball warren Ball Warren RB 5 6-1 225 5 JR Columbus, Ohio (DeSales)\n",
      "\n",
      "16 barrett j.t. Barrett J.T. QB 3 6-2 225 3 SO Wichita Falls, Texas (Rider)\n",
      "\n",
      "85 baugh marcus Baugh Marcus TE 3 6-5 255 3 SO Riverside, Calif. (John W. North)\n",
      "\n",
      "11 bell vonn Bell Vonn SAF 5 5-11 205 5 JR Rossville, Ga. (Ridgeland)\n",
      "\n",
      "44 berger kyle Berger Kyle LB 7 6-2 230 7 SR Cleveland, Ohio (St. Ignatius)\n",
      "\n",
      "33 booker dante Booker Dante LB 3 6-3 233 3 SO Akron (St. Vincent-St. Mary)\n",
      "\n",
      "50 boren jacoby Boren Jacoby OL 7 6-2 285 7 SR Pickerington, Ohio (Pickerington Central)\n",
      "\n",
      "97 bosa joey Bosa Joey DL 5 6-6 275 5 JR Fort Lauderdale, Fla. (St. Thomas Aquinas)\n",
      "\n",
      "80 brown noah Brown Noah WR 3 6-2 222 3 SO Flanders, N.J. (Pope John XXIII)\n",
      "\n",
      "48 burger joe Burger Joe LB 7 6-2 230 7 SR Cincinnati, Ohio (LaSalle)\n",
      "\n",
      "16 burrows cam Burrows Cam DB 5 6-0 208 5 JR Trotwood, Ohio (Trotwood Madison)\n",
      "\n",
      "21 campbell parris Campbell Parris WR 3 6-1 205 3 SO Akron (St. Vincent-St. Mary)\n",
      "\n",
      "28 cibene michael Cibene Michael SAF 5 6-0 185 5 JR Fort Lauderdale (Pine Crest)\n",
      "\n",
      "82 clark james Clark James WR 3 5-10 185 3 SO New Smyrna Beach, Fla. (New Smyrna Beach)\n",
      "\n",
      "13 collier stephen Collier Stephen QB 3 6-4 225 3 SO Leesburg, Ga. (Lee County)\n",
      "\n",
      "19 conley gareon Conley Gareon CB 3 6-0 195 3 SO Massillon, Ohio (Washington)\n",
      "\n",
      "34 conner nick Conner Nick LB 1 6-3 230 1 FR Dublin, Ohio (Scioto)\n",
      "\n",
      "11 cook justin Cook Justin QB 3 6-3 225 3 SO Philadelphia, Pa. (Western Reserve Academy)\n",
      "\n",
      "9 cornell jashon Cornell Jashon DL 1 6-3 265 1 FR St. Paul, Minn. (Cretin-Derham Hall)\n",
      "\n",
      "4 dean jamel Dean Jamel DB 1 6-3 200 1 FR Cocoa, Fla. (Cocoa)\n",
      "\n",
      "68 decker taylor Decker Taylor OL 7 6-8 315 7 SR Vandalia, Ohio (Butler)\n",
      "\n",
      "1 dixon johnnie Dixon Johnnie WR 1 5-11 194 1 FR West Palm Beach, Fla. (Dwyer)\n",
      "\n",
      "25 dunn bri'onte Dunn Bri'onte RB 5 6-0 215 5 JR Canton, Ohio (GlenOak)\n",
      "\n",
      "65 elflein pat Elflein Pat OL 5 6-3 300 5 JR Pickerington, Ohio (Pickerington North)\n",
      "\n",
      "15 elliott ezekiel Elliott Ezekiel RB 5 6-0 225 5 JR St. Louis, Mo. (John Burroughs)\n",
      "\n",
      "38 fada craig Fada Craig LB 7 6-1 230 7 SR Columbus, Ohio (Bishop Watterson)\n",
      "\n",
      "57 farris chase Farris Chase OL 7 6-5 310 7 SR Elyria, Ohio (Elyria)\n",
      "\n",
      "87 ferrelli guy Ferrelli Guy TE 3 6-1 245 3 SO Columbus, Ohio (Bishop Ready)\n",
      "\n",
      "70 fong chris Fong Chris DE 7 6-2 260 7 SR Troy, Ohio (Troy)\n",
      "\n",
      "21 forte trevon Forte Trevon CB 3 5-8 175 3 SO Youngstown, Ohio (Cardinal Mooney)\n",
      "\n",
      "3 franklin khaleed Franklin Khaleed SAF 5 6-1 215 5 JR Columbus, Ohio (Beechcroft)\n",
      "\n",
      "61 gaskey logan Gaskey Logan OL 5 6-4 295 5 JR Long Grove, Ill. (Adlai E. Stevenson)\n",
      "\n",
      "89 greene jeff Greene Jeff WR 7 6-5 220 7 SR Peachtree City, Ga. (Starr's Mill)\n",
      "\n",
      "51 hale joel Hale Joel OL 7 6-4 295 7 SR Greenwood, Ind. (Center Grove)\n",
      "\n",
      "41 haynes bryce Haynes Bryce LS 7 6-4 225 7 SR Cumming, Ga. (Pinecrest Academy)\n",
      "\n",
      "77 hill michael Hill Michael DL 3 6-3 295 3 SO Pendleton, S.C. (Pendleton)\n",
      "\n",
      "10 holmes jalyn Holmes Jalyn DL 3 6-5 265 3 SO Norfolk, Va. (Lake Taylor)\n",
      "\n",
      "24 hooker malik Hooker Malik SAF 1 6-2 205 1 FR New Castle, Pa. (New Castle)\n",
      "\n",
      "49 hubbard sam Hubbard Sam DE 1 6-5 265 1 FR Cincinnati, Ohio (Archbishop Moeller)\n",
      "\n",
      "95 johnston cameron Johnston Cameron P 5 5-11 195 5 JR Geelong, Australia (St. Joseph's)\n",
      "\n",
      "12 jones cardale Jones Cardale QB 5 6-5 250 5 JR Cleveland, Ohio (Glenville)\n",
      "\n",
      "74 jones jamarco Jones Jamarco OL 3 6-5 310 3 SO Chicago (De La Salle)\n",
      "\n",
      "64 jones marcelys Jones Marcelys OL 3 6-4 315 3 SO Cleveland, Ohio (Glenville)\n",
      "\n",
      "78 knox demetrius Knox Demetrius OL 1 6-4 305 1 FR Fort Worth, Texas (All Saints Episcopal)\n",
      "\n",
      "2 lattimore marshon Lattimore Marshon CB 1 6-0 195 1 FR Cleveland (Glenville)\n",
      "\n",
      "43 lee darron Lee Darron LB 3 6-2 235 3 SO New Albany, Ohio (New Albany)\n",
      "\n",
      "59 lewis tyquan Lewis Tyquan DL 3 6-4 260 3 SO Tarboro, N.C. (Tarboro)\n",
      "\n",
      "75 lisle evan Lisle Evan OL 3 6-7 305 3 SO Centerville, Ohio (Centreville)\n",
      "\n",
      "29 maduko mike Maduko Mike SAF 3 5-8 188 3 SO Naperville, Ill. (Montini Catholic)\n",
      "\n",
      "17 marshall jalin Marshall Jalin H-B 3 5-11 205 3 SO Middletown, Ohio (Middletown)\n",
      "\n",
      "42 mawhirter aaron Mawhirter Aaron LS 5 6-1 230 5 JR Sandusky, Ohio (Perkins)\n",
      "\n",
      "20 mcdaniel devlin McDaniel Devlin WR 5 5-11 195 5 JR Marion, Ohio (Marion Pleasant)\n",
      "\n",
      "83 mclaurin terry McLaurin Terry WR 3 6-1 200 3 SO Indianapolis (Cathedral)\n",
      "\n",
      "5 mcmillan raekwon McMillan Raekwon LB 3 6-2 240 3 SO Hinesville, Ga. (Liberty County)\n",
      "\n",
      "5 miller braxton Miller Braxton QB 7 6-2 215 7 SR Huber Heights, Ohio (Wayne)\n",
      "\n",
      "18 mitchell kato Mitchell Kato WR 7 6-0 190 7 SR Cleveland, Ohio (John Hay)\n",
      "\n",
      "44 morgan luke Morgan Luke QB 5 6-2 235 5 JR Lebanon, Ohio (Lebanon)\n",
      "\n",
      "62 morris r.j. Morris R.J. OL 3 6-2 305 3 SO Naperville, Ill. (Naperville)\n",
      "\n",
      "52 munger donovan Munger Donovan DL 3 6-4 300 3 SO Shaker Heights, Ohio (Shaker Heights)\n",
      "\n",
      "96 nuernberger sean Nuernberger Sean K 3 6-1 220 3 SO Buckner, Ky. (Oldham Co.)\n",
      "\n",
      "91 parry aaron Parry Aaron DL 5 6-5 275 5 JR Zanesville, Ohio (Bishop Rosecrans)\n",
      "\n",
      "37 perry joshua Perry Joshua LB 7 6-4 254 7 SR Galena, Ohio (Olentangy)\n",
      "\n",
      "23 powell tyvis Powell Tyvis SAF 5 6-3 210 5 JR Bedford, Ohio (Bedford)\n",
      "\n",
      "54 price billy Price Billy OL 3 6-4 315 3 SO Austintown, Ohio (Fitch)\n",
      "\n",
      "19 ramstetter joe Ramstetter Joe WR 5 6-3 225 5 JR Cincinnati, Ohio (Elder)\n",
      "\n",
      "4 samuel curtis Samuel Curtis RB 3 5-11 200 3 SO Brooklyn, N.Y. (Erasmus Hall)\n",
      "\n",
      "67 schmidt grant Schmidt Grant OL 1 6-6 300 1 FR Sioux Falls, S.D. (Roosevelt)\n",
      "\n",
      "90 schutt tommy Schutt Tommy DL 7 6-3 290 7 SR Glen Ellyn, Ill. (Glenbard West)\n",
      "\n",
      "42 slade darius Slade Darius DL 1 6-4 255 1 FR Montclair, N.J. (Montclair)\n",
      "\n",
      "84 smith corey Smith Corey WR 7 6-1 195 7 SR Akron, Ohio (Akron Buchtel)\n",
      "\n",
      "1 smith erick Smith Erick SAF 3 6-0 202 3 SO Cleveland, Ohio (Glenville)\n",
      "\n",
      "93 sprinkle tracy Sprinkle Tracy DL 3 6-3 290 3 SO Elyria, Ohio (Elyria)\n",
      "\n",
      "79 taylor brady Taylor Brady OL 1 6-5 300 1 FR Columbus, Ohio (Bishop Ready)\n",
      "\n",
      "15 tensing nick Tensing Nick QB 3 6-5 215 3 SO Cincinnati (St. Xavier)\n",
      "\n",
      "3 thomas michael Thomas Michael WR 5 6-3 210 5 JR Los Angeles, Calif. (Woodland Hills Taft)\n",
      "\n",
      "94 thompson dylan Thompson Dylan DL 1 6-5 275 1 FR Lombard, Ill. (Montini Catholic)\n",
      "\n",
      "71 trout kyle Trout Kyle OL 1 6-6 310 1 FR Lancaster, Ohio (Lancaster)\n",
      "\n",
      "36 turnure zach Turnure Zach LB 5 6-1 235 5 JR St. Louis, Mo. (CBC)\n",
      "\n",
      "81 vannett nick Vannett Nick TE 7 6-6 260 7 SR Westerville, Ohio (Central)\n",
      "\n",
      "92 washington adolphus Washington Adolphus DL 7 6-4 290 7 SR Cincinnati, Ohio (Taft)\n",
      "\n",
      "7 webb damon Webb Damon CB 3 5-11 193 3 SO Detroit, Mich (Cass Tech)\n",
      "\n",
      "55 williams camren Williams Camren LB 7 6-1 225 7 SR West Roxbury, Mass. (Catholic Memorial)\n",
      "\n",
      "2 wilson dontre Wilson Dontre H-B 5 5-10 195 5 JR DeSoto, Texas (DeSoto)\n",
      "\n",
      "35 worley chris Worley Chris LB 3 6-2 225 3 SO Cleveland, Ohio (Glenville)\n",
      "\n"
     ]
    }
   ],
   "source": [
    "with open(osu_roster_filepath, 'r') as f:\n",
    "    for line in f.readlines():\n",
    "        items = line.split('\\t')\n",
    "        number = int(items[0])\n",
    "        name = items[1]\n",
    "        first, last = items[2].split(', ')\n",
    "        position = items[3]\n",
    "        something = items[4]\n",
    "        height = items[5]\n",
    "        weight = items[6]\n",
    "        something = items[7]\n",
    "        year = items[8]\n",
    "        hometown = items[9]\n",
    "        \n",
    "        athlete = Athlete()\n",
    "        athlete.number = number\n",
    "        athlete.name = name\n",
    "        athlete.first = first\n",
    "        athlete.last = last\n",
    "        athlete.position = position\n",
    "        athlete.height = height\n",
    "        athlete.weight = weight\n",
    "        athlete.year = year\n",
    "        athlete.hometown = hometown\n",
    "        \n",
    "#         session.merge(athlete)\n",
    "        print(number, name, first, last, position, something, height, weight, something, year, hometown)\n",
    "# session.commit()"
   ]
  },
  {
   "cell_type": "markdown",
   "metadata": {
    "collapsed": true
   },
   "source": [
    "Notes: \n",
    "- high school should be a separate column\n",
    "- height needs a format converter to SI units\n",
    "\n",
    "Suggested Reform:\n",
    "\n",
    "    numbers  last  first  positions  \n",
    "    \n",
    "    \n",
    "Wait--answers are in--rosters come from web--so very customized scrapers are probably the best answer."
   ]
  },
  {
   "cell_type": "code",
   "execution_count": null,
   "metadata": {
    "collapsed": true
   },
   "outputs": [],
   "source": []
  }
 ],
 "metadata": {
  "kernelspec": {
   "display_name": "Python 3",
   "language": "python",
   "name": "python3"
  },
  "language_info": {
   "codemirror_mode": {
    "name": "ipython",
    "version": 3
   },
   "file_extension": ".py",
   "mimetype": "text/x-python",
   "name": "python",
   "nbconvert_exporter": "python",
   "pygments_lexer": "ipython3",
   "version": "3.4.3"
  }
 },
 "nbformat": 4,
 "nbformat_minor": 0
}
